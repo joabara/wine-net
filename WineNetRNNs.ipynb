{
  "cells": [
    {
      "cell_type": "code",
      "execution_count": 1,
      "metadata": {
        "id": "Pcoh0DRtLUb3"
      },
      "outputs": [],
      "source": [
        "# !pip install pandas\n",
        "# !pip install seaborn\n",
        "# !pip install sklearn\n",
        "# !pip install pyenchant\n",
        "# !apt-get install libenchant1c2a"
      ]
    },
    {
      "cell_type": "code",
      "source": [
        "# from google.colab import drive\n",
        "# drive.mount('/content/drive')"
      ],
      "metadata": {
        "id": "vaJEsLPQrCvg"
      },
      "execution_count": 2,
      "outputs": []
    },
    {
      "cell_type": "code",
      "execution_count": 3,
      "metadata": {
        "id": "wW_AxRSfLA4s"
      },
      "outputs": [],
      "source": [
        "import pandas as pd\n",
        "import seaborn as sns\n",
        "from sklearn.feature_extraction.text import TfidfVectorizer\n",
        "from keras.preprocessing import sequence\n",
        "import os \n",
        "from tensorflow.keras.layers import Dense, LSTM, Embedding,Dropout,SpatialDropout1D,Conv1D,MaxPooling1D,GRU,BatchNormalization\n",
        "from tensorflow.keras.layers import Input,Bidirectional,GlobalAveragePooling1D,GlobalMaxPooling1D,concatenate,LeakyReLU\n",
        "from tensorflow.keras import regularizers\n",
        "from tensorflow.keras import backend as K\n",
        "\n",
        "os.chdir('/content/drive/MyDrive/NeuralResearch/wine-net/')\n",
        "\n",
        "# os.chdir('/content/drive/MyDrive/MSCA_31009/Final_Project/')\n",
        "\n",
        "def remove_punctuation(s):\n",
        "  punc = '''!()-[]{};:'\"\\,<>./?@#$%^&*_~'''\n",
        "\n",
        "  # Removing punctuations in string\n",
        "  # Using loop + punctuation string\n",
        "  for ele in s:\n",
        "      if ele in punc:\n",
        "          s = s.replace(ele, \"\")\n",
        "  return s\n",
        "\n",
        "def clean_description(review, swap):\n",
        "  terms = review.split()\n",
        "  for x in terms:\n",
        "    try: x = swap[('t_' + str(x))]\n",
        "    except KeyError: x = ''\n",
        "  return ' '.join(terms)\n"
      ]
    },
    {
      "cell_type": "code",
      "execution_count": 4,
      "metadata": {
        "colab": {
          "base_uri": "https://localhost:8080/",
          "height": 206
        },
        "id": "G1yVEY0j8lJP",
        "outputId": "b710ce1d-a4f0-4d80-8b75-9fe98c382b10"
      },
      "outputs": [
        {
          "output_type": "execute_result",
          "data": {
            "text/html": [
              "\n",
              "  <div id=\"df-1f608e99-ac4d-46e9-a52c-6f4de876247a\">\n",
              "    <div class=\"colab-df-container\">\n",
              "      <div>\n",
              "<style scoped>\n",
              "    .dataframe tbody tr th:only-of-type {\n",
              "        vertical-align: middle;\n",
              "    }\n",
              "\n",
              "    .dataframe tbody tr th {\n",
              "        vertical-align: top;\n",
              "    }\n",
              "\n",
              "    .dataframe thead th {\n",
              "        text-align: right;\n",
              "    }\n",
              "</style>\n",
              "<table border=\"1\" class=\"dataframe\">\n",
              "  <thead>\n",
              "    <tr style=\"text-align: right;\">\n",
              "      <th></th>\n",
              "      <th>country</th>\n",
              "      <th>description</th>\n",
              "      <th>province</th>\n",
              "    </tr>\n",
              "  </thead>\n",
              "  <tbody>\n",
              "    <tr>\n",
              "      <th>117472</th>\n",
              "      <td>Chile</td>\n",
              "      <td>this wine is the perfect model for midlevel ch...</td>\n",
              "      <td>Colchagua Valley</td>\n",
              "    </tr>\n",
              "    <tr>\n",
              "      <th>88967</th>\n",
              "      <td>Portugal</td>\n",
              "      <td>round and ripe this balances rich white and ye...</td>\n",
              "      <td>Setubal</td>\n",
              "    </tr>\n",
              "    <tr>\n",
              "      <th>87490</th>\n",
              "      <td>US</td>\n",
              "      <td>a dusty drink of blackberry lean and structure...</td>\n",
              "      <td>California</td>\n",
              "    </tr>\n",
              "    <tr>\n",
              "      <th>51997</th>\n",
              "      <td>US</td>\n",
              "      <td>another in the new nn line the sullenger featu...</td>\n",
              "      <td>California</td>\n",
              "    </tr>\n",
              "    <tr>\n",
              "      <th>43655</th>\n",
              "      <td>Germany</td>\n",
              "      <td>dusty earth and mineral tones lend contrast to...</td>\n",
              "      <td>Rheingau</td>\n",
              "    </tr>\n",
              "  </tbody>\n",
              "</table>\n",
              "</div>\n",
              "      <button class=\"colab-df-convert\" onclick=\"convertToInteractive('df-1f608e99-ac4d-46e9-a52c-6f4de876247a')\"\n",
              "              title=\"Convert this dataframe to an interactive table.\"\n",
              "              style=\"display:none;\">\n",
              "        \n",
              "  <svg xmlns=\"http://www.w3.org/2000/svg\" height=\"24px\"viewBox=\"0 0 24 24\"\n",
              "       width=\"24px\">\n",
              "    <path d=\"M0 0h24v24H0V0z\" fill=\"none\"/>\n",
              "    <path d=\"M18.56 5.44l.94 2.06.94-2.06 2.06-.94-2.06-.94-.94-2.06-.94 2.06-2.06.94zm-11 1L8.5 8.5l.94-2.06 2.06-.94-2.06-.94L8.5 2.5l-.94 2.06-2.06.94zm10 10l.94 2.06.94-2.06 2.06-.94-2.06-.94-.94-2.06-.94 2.06-2.06.94z\"/><path d=\"M17.41 7.96l-1.37-1.37c-.4-.4-.92-.59-1.43-.59-.52 0-1.04.2-1.43.59L10.3 9.45l-7.72 7.72c-.78.78-.78 2.05 0 2.83L4 21.41c.39.39.9.59 1.41.59.51 0 1.02-.2 1.41-.59l7.78-7.78 2.81-2.81c.8-.78.8-2.07 0-2.86zM5.41 20L4 18.59l7.72-7.72 1.47 1.35L5.41 20z\"/>\n",
              "  </svg>\n",
              "      </button>\n",
              "      \n",
              "  <style>\n",
              "    .colab-df-container {\n",
              "      display:flex;\n",
              "      flex-wrap:wrap;\n",
              "      gap: 12px;\n",
              "    }\n",
              "\n",
              "    .colab-df-convert {\n",
              "      background-color: #E8F0FE;\n",
              "      border: none;\n",
              "      border-radius: 50%;\n",
              "      cursor: pointer;\n",
              "      display: none;\n",
              "      fill: #1967D2;\n",
              "      height: 32px;\n",
              "      padding: 0 0 0 0;\n",
              "      width: 32px;\n",
              "    }\n",
              "\n",
              "    .colab-df-convert:hover {\n",
              "      background-color: #E2EBFA;\n",
              "      box-shadow: 0px 1px 2px rgba(60, 64, 67, 0.3), 0px 1px 3px 1px rgba(60, 64, 67, 0.15);\n",
              "      fill: #174EA6;\n",
              "    }\n",
              "\n",
              "    [theme=dark] .colab-df-convert {\n",
              "      background-color: #3B4455;\n",
              "      fill: #D2E3FC;\n",
              "    }\n",
              "\n",
              "    [theme=dark] .colab-df-convert:hover {\n",
              "      background-color: #434B5C;\n",
              "      box-shadow: 0px 1px 3px 1px rgba(0, 0, 0, 0.15);\n",
              "      filter: drop-shadow(0px 1px 2px rgba(0, 0, 0, 0.3));\n",
              "      fill: #FFFFFF;\n",
              "    }\n",
              "  </style>\n",
              "\n",
              "      <script>\n",
              "        const buttonEl =\n",
              "          document.querySelector('#df-1f608e99-ac4d-46e9-a52c-6f4de876247a button.colab-df-convert');\n",
              "        buttonEl.style.display =\n",
              "          google.colab.kernel.accessAllowed ? 'block' : 'none';\n",
              "\n",
              "        async function convertToInteractive(key) {\n",
              "          const element = document.querySelector('#df-1f608e99-ac4d-46e9-a52c-6f4de876247a');\n",
              "          const dataTable =\n",
              "            await google.colab.kernel.invokeFunction('convertToInteractive',\n",
              "                                                     [key], {});\n",
              "          if (!dataTable) return;\n",
              "\n",
              "          const docLinkHtml = 'Like what you see? Visit the ' +\n",
              "            '<a target=\"_blank\" href=https://colab.research.google.com/notebooks/data_table.ipynb>data table notebook</a>'\n",
              "            + ' to learn more about interactive tables.';\n",
              "          element.innerHTML = '';\n",
              "          dataTable['output_type'] = 'display_data';\n",
              "          await google.colab.output.renderOutput(dataTable, element);\n",
              "          const docLink = document.createElement('div');\n",
              "          docLink.innerHTML = docLinkHtml;\n",
              "          element.appendChild(docLink);\n",
              "        }\n",
              "      </script>\n",
              "    </div>\n",
              "  </div>\n",
              "  "
            ],
            "text/plain": [
              "         country                                        description  \\\n",
              "117472     Chile  this wine is the perfect model for midlevel ch...   \n",
              "88967   Portugal  round and ripe this balances rich white and ye...   \n",
              "87490         US  a dusty drink of blackberry lean and structure...   \n",
              "51997         US  another in the new nn line the sullenger featu...   \n",
              "43655    Germany  dusty earth and mineral tones lend contrast to...   \n",
              "\n",
              "                province  \n",
              "117472  Colchagua Valley  \n",
              "88967            Setubal  \n",
              "87490         California  \n",
              "51997         California  \n",
              "43655           Rheingau  "
            ]
          },
          "metadata": {},
          "execution_count": 4
        }
      ],
      "source": [
        "wines = pd.read_csv('winemag-data-130k-v2.csv')\n",
        "wines = wines.drop(columns = ['Unnamed: 0'])\n",
        "\n",
        "wines2 = pd.read_csv('winemag-data_first150k.csv')\n",
        "wines2.head()\n",
        "\n",
        "# Intersect and append two review tables\n",
        "columns = [value for value in wines.columns if value in wines2.columns] # intersection(wines.columns, wines2.columns)\n",
        "wines = wines[columns]\n",
        "wines2 = wines2[columns]\n",
        "wines = pd.concat([wines, wines2]).drop(columns = ['designation', 'winery'])\n",
        "wines['d_length'] = wines.description.apply(lambda x: len(str(x))).astype(int)\n",
        "\n",
        "wines = wines[((wines.d_length > 75) & (wines.d_length < 450))]\n",
        "\n",
        "wines = wines.sample(n=20000)\n",
        "\n",
        "# Imputation steps\n",
        "median_price = wines.price.median()\n",
        "median_points = wines.points.median()\n",
        "\n",
        "# Impute variables\n",
        "wines.price = wines.price.fillna(median_price)\n",
        "wines.points = wines.points.fillna(median_points)\n",
        "wines = wines.fillna('')\n",
        "wines.price = wines.price.astype(int)\n",
        "wines.description = wines.description.apply(lambda x: remove_punctuation(x.lower()))\n",
        "\n",
        "Y = wines.variety\n",
        "output_shape = Y.nunique()\n",
        "Y0_price = wines.price\n",
        "Y1_points = wines.points.apply(lambda x: 1 if x > 90 else 0)\n",
        "\n",
        "Y = [0 if wines['variety'].iloc[x] in ['Pinot Noir','Cabernet Sauvignon','Red Blend','Bordeaux-style Red Blend','Syrah','Merlot'] else 1 for x in range(len(wines['variety']))]\n",
        "Y = pd.Series(Y)\n",
        "\n",
        "wines = wines.drop(columns=['variety', 'price', 'points', 'region_1', 'region_2', 'd_length'])\n",
        "wines.head()"
      ]
    },
    {
      "cell_type": "code",
      "execution_count": 5,
      "metadata": {
        "colab": {
          "base_uri": "https://localhost:8080/",
          "height": 271
        },
        "id": "CITJKQneH4qN",
        "outputId": "5a9b4539-c3bd-48f5-b2e0-764aea2a04de"
      },
      "outputs": [
        {
          "output_type": "stream",
          "name": "stdout",
          "text": [
            "Reduced words by  41.0 %\n",
            "Reduced word count:  9283\n"
          ]
        },
        {
          "output_type": "execute_result",
          "data": {
            "text/html": [
              "\n",
              "  <div id=\"df-10f67c40-0817-445c-b396-828489363464\">\n",
              "    <div class=\"colab-df-container\">\n",
              "      <div>\n",
              "<style scoped>\n",
              "    .dataframe tbody tr th:only-of-type {\n",
              "        vertical-align: middle;\n",
              "    }\n",
              "\n",
              "    .dataframe tbody tr th {\n",
              "        vertical-align: top;\n",
              "    }\n",
              "\n",
              "    .dataframe thead th {\n",
              "        text-align: right;\n",
              "    }\n",
              "</style>\n",
              "<table border=\"1\" class=\"dataframe\">\n",
              "  <thead>\n",
              "    <tr style=\"text-align: right;\">\n",
              "      <th></th>\n",
              "      <th>abbey</th>\n",
              "      <th>ability</th>\n",
              "      <th>able</th>\n",
              "      <th>ably</th>\n",
              "      <th>abnormal</th>\n",
              "      <th>abnormally</th>\n",
              "      <th>abound</th>\n",
              "      <th>abounds</th>\n",
              "      <th>about</th>\n",
              "      <th>above</th>\n",
              "      <th>...</th>\n",
              "      <th>zesty</th>\n",
              "      <th>zinfandel</th>\n",
              "      <th>zing</th>\n",
              "      <th>zinging</th>\n",
              "      <th>zingy</th>\n",
              "      <th>zip</th>\n",
              "      <th>zippy</th>\n",
              "      <th>zips</th>\n",
              "      <th>zone</th>\n",
              "      <th>zucchini</th>\n",
              "    </tr>\n",
              "  </thead>\n",
              "  <tbody>\n",
              "    <tr>\n",
              "      <th>0</th>\n",
              "      <td>0.0</td>\n",
              "      <td>0.0</td>\n",
              "      <td>0.0</td>\n",
              "      <td>0.0</td>\n",
              "      <td>0.0</td>\n",
              "      <td>0.0</td>\n",
              "      <td>0.0</td>\n",
              "      <td>0.0</td>\n",
              "      <td>0.0</td>\n",
              "      <td>0.0</td>\n",
              "      <td>...</td>\n",
              "      <td>0.0</td>\n",
              "      <td>0.0</td>\n",
              "      <td>0.0</td>\n",
              "      <td>0.0</td>\n",
              "      <td>0.0</td>\n",
              "      <td>0.0</td>\n",
              "      <td>0.0</td>\n",
              "      <td>0.0</td>\n",
              "      <td>0.0</td>\n",
              "      <td>0.0</td>\n",
              "    </tr>\n",
              "    <tr>\n",
              "      <th>1</th>\n",
              "      <td>0.0</td>\n",
              "      <td>0.0</td>\n",
              "      <td>0.0</td>\n",
              "      <td>0.0</td>\n",
              "      <td>0.0</td>\n",
              "      <td>0.0</td>\n",
              "      <td>0.0</td>\n",
              "      <td>0.0</td>\n",
              "      <td>0.0</td>\n",
              "      <td>0.0</td>\n",
              "      <td>...</td>\n",
              "      <td>0.0</td>\n",
              "      <td>0.0</td>\n",
              "      <td>0.0</td>\n",
              "      <td>0.0</td>\n",
              "      <td>0.0</td>\n",
              "      <td>0.0</td>\n",
              "      <td>0.0</td>\n",
              "      <td>0.0</td>\n",
              "      <td>0.0</td>\n",
              "      <td>0.0</td>\n",
              "    </tr>\n",
              "    <tr>\n",
              "      <th>2</th>\n",
              "      <td>0.0</td>\n",
              "      <td>0.0</td>\n",
              "      <td>0.0</td>\n",
              "      <td>0.0</td>\n",
              "      <td>0.0</td>\n",
              "      <td>0.0</td>\n",
              "      <td>0.0</td>\n",
              "      <td>0.0</td>\n",
              "      <td>0.0</td>\n",
              "      <td>0.0</td>\n",
              "      <td>...</td>\n",
              "      <td>0.0</td>\n",
              "      <td>0.0</td>\n",
              "      <td>0.0</td>\n",
              "      <td>0.0</td>\n",
              "      <td>0.0</td>\n",
              "      <td>0.0</td>\n",
              "      <td>0.0</td>\n",
              "      <td>0.0</td>\n",
              "      <td>0.0</td>\n",
              "      <td>0.0</td>\n",
              "    </tr>\n",
              "    <tr>\n",
              "      <th>3</th>\n",
              "      <td>0.0</td>\n",
              "      <td>0.0</td>\n",
              "      <td>0.0</td>\n",
              "      <td>0.0</td>\n",
              "      <td>0.0</td>\n",
              "      <td>0.0</td>\n",
              "      <td>0.0</td>\n",
              "      <td>0.0</td>\n",
              "      <td>0.0</td>\n",
              "      <td>0.0</td>\n",
              "      <td>...</td>\n",
              "      <td>0.0</td>\n",
              "      <td>0.0</td>\n",
              "      <td>0.0</td>\n",
              "      <td>0.0</td>\n",
              "      <td>0.0</td>\n",
              "      <td>0.0</td>\n",
              "      <td>0.0</td>\n",
              "      <td>0.0</td>\n",
              "      <td>0.0</td>\n",
              "      <td>0.0</td>\n",
              "    </tr>\n",
              "    <tr>\n",
              "      <th>4</th>\n",
              "      <td>0.0</td>\n",
              "      <td>0.0</td>\n",
              "      <td>0.0</td>\n",
              "      <td>0.0</td>\n",
              "      <td>0.0</td>\n",
              "      <td>0.0</td>\n",
              "      <td>0.0</td>\n",
              "      <td>0.0</td>\n",
              "      <td>0.0</td>\n",
              "      <td>0.0</td>\n",
              "      <td>...</td>\n",
              "      <td>0.0</td>\n",
              "      <td>0.0</td>\n",
              "      <td>0.0</td>\n",
              "      <td>0.0</td>\n",
              "      <td>0.0</td>\n",
              "      <td>0.0</td>\n",
              "      <td>0.0</td>\n",
              "      <td>0.0</td>\n",
              "      <td>0.0</td>\n",
              "      <td>0.0</td>\n",
              "    </tr>\n",
              "  </tbody>\n",
              "</table>\n",
              "<p>5 rows × 9283 columns</p>\n",
              "</div>\n",
              "      <button class=\"colab-df-convert\" onclick=\"convertToInteractive('df-10f67c40-0817-445c-b396-828489363464')\"\n",
              "              title=\"Convert this dataframe to an interactive table.\"\n",
              "              style=\"display:none;\">\n",
              "        \n",
              "  <svg xmlns=\"http://www.w3.org/2000/svg\" height=\"24px\"viewBox=\"0 0 24 24\"\n",
              "       width=\"24px\">\n",
              "    <path d=\"M0 0h24v24H0V0z\" fill=\"none\"/>\n",
              "    <path d=\"M18.56 5.44l.94 2.06.94-2.06 2.06-.94-2.06-.94-.94-2.06-.94 2.06-2.06.94zm-11 1L8.5 8.5l.94-2.06 2.06-.94-2.06-.94L8.5 2.5l-.94 2.06-2.06.94zm10 10l.94 2.06.94-2.06 2.06-.94-2.06-.94-.94-2.06-.94 2.06-2.06.94z\"/><path d=\"M17.41 7.96l-1.37-1.37c-.4-.4-.92-.59-1.43-.59-.52 0-1.04.2-1.43.59L10.3 9.45l-7.72 7.72c-.78.78-.78 2.05 0 2.83L4 21.41c.39.39.9.59 1.41.59.51 0 1.02-.2 1.41-.59l7.78-7.78 2.81-2.81c.8-.78.8-2.07 0-2.86zM5.41 20L4 18.59l7.72-7.72 1.47 1.35L5.41 20z\"/>\n",
              "  </svg>\n",
              "      </button>\n",
              "      \n",
              "  <style>\n",
              "    .colab-df-container {\n",
              "      display:flex;\n",
              "      flex-wrap:wrap;\n",
              "      gap: 12px;\n",
              "    }\n",
              "\n",
              "    .colab-df-convert {\n",
              "      background-color: #E8F0FE;\n",
              "      border: none;\n",
              "      border-radius: 50%;\n",
              "      cursor: pointer;\n",
              "      display: none;\n",
              "      fill: #1967D2;\n",
              "      height: 32px;\n",
              "      padding: 0 0 0 0;\n",
              "      width: 32px;\n",
              "    }\n",
              "\n",
              "    .colab-df-convert:hover {\n",
              "      background-color: #E2EBFA;\n",
              "      box-shadow: 0px 1px 2px rgba(60, 64, 67, 0.3), 0px 1px 3px 1px rgba(60, 64, 67, 0.15);\n",
              "      fill: #174EA6;\n",
              "    }\n",
              "\n",
              "    [theme=dark] .colab-df-convert {\n",
              "      background-color: #3B4455;\n",
              "      fill: #D2E3FC;\n",
              "    }\n",
              "\n",
              "    [theme=dark] .colab-df-convert:hover {\n",
              "      background-color: #434B5C;\n",
              "      box-shadow: 0px 1px 3px 1px rgba(0, 0, 0, 0.15);\n",
              "      filter: drop-shadow(0px 1px 2px rgba(0, 0, 0, 0.3));\n",
              "      fill: #FFFFFF;\n",
              "    }\n",
              "  </style>\n",
              "\n",
              "      <script>\n",
              "        const buttonEl =\n",
              "          document.querySelector('#df-10f67c40-0817-445c-b396-828489363464 button.colab-df-convert');\n",
              "        buttonEl.style.display =\n",
              "          google.colab.kernel.accessAllowed ? 'block' : 'none';\n",
              "\n",
              "        async function convertToInteractive(key) {\n",
              "          const element = document.querySelector('#df-10f67c40-0817-445c-b396-828489363464');\n",
              "          const dataTable =\n",
              "            await google.colab.kernel.invokeFunction('convertToInteractive',\n",
              "                                                     [key], {});\n",
              "          if (!dataTable) return;\n",
              "\n",
              "          const docLinkHtml = 'Like what you see? Visit the ' +\n",
              "            '<a target=\"_blank\" href=https://colab.research.google.com/notebooks/data_table.ipynb>data table notebook</a>'\n",
              "            + ' to learn more about interactive tables.';\n",
              "          element.innerHTML = '';\n",
              "          dataTable['output_type'] = 'display_data';\n",
              "          await google.colab.output.renderOutput(dataTable, element);\n",
              "          const docLink = document.createElement('div');\n",
              "          docLink.innerHTML = docLinkHtml;\n",
              "          element.appendChild(docLink);\n",
              "        }\n",
              "      </script>\n",
              "    </div>\n",
              "  </div>\n",
              "  "
            ],
            "text/plain": [
              "   abbey  ability  able  ably  abnormal  abnormally  abound  abounds  about  \\\n",
              "0    0.0      0.0   0.0   0.0       0.0         0.0     0.0      0.0    0.0   \n",
              "1    0.0      0.0   0.0   0.0       0.0         0.0     0.0      0.0    0.0   \n",
              "2    0.0      0.0   0.0   0.0       0.0         0.0     0.0      0.0    0.0   \n",
              "3    0.0      0.0   0.0   0.0       0.0         0.0     0.0      0.0    0.0   \n",
              "4    0.0      0.0   0.0   0.0       0.0         0.0     0.0      0.0    0.0   \n",
              "\n",
              "   above  ...  zesty  zinfandel  zing  zinging  zingy  zip  zippy  zips  zone  \\\n",
              "0    0.0  ...    0.0        0.0   0.0      0.0    0.0  0.0    0.0   0.0   0.0   \n",
              "1    0.0  ...    0.0        0.0   0.0      0.0    0.0  0.0    0.0   0.0   0.0   \n",
              "2    0.0  ...    0.0        0.0   0.0      0.0    0.0  0.0    0.0   0.0   0.0   \n",
              "3    0.0  ...    0.0        0.0   0.0      0.0    0.0  0.0    0.0   0.0   0.0   \n",
              "4    0.0  ...    0.0        0.0   0.0      0.0    0.0  0.0    0.0   0.0   0.0   \n",
              "\n",
              "   zucchini  \n",
              "0       0.0  \n",
              "1       0.0  \n",
              "2       0.0  \n",
              "3       0.0  \n",
              "4       0.0  \n",
              "\n",
              "[5 rows x 9283 columns]"
            ]
          },
          "metadata": {},
          "execution_count": 5
        }
      ],
      "source": [
        "text = wines.description\n",
        "tfidf = TfidfVectorizer() \n",
        "review_vector = tfidf.fit_transform(text)\n",
        "words = tfidf.get_feature_names_out()\n",
        "rev_array = review_vector.toarray()\n",
        "words_df = pd.DataFrame(rev_array, columns = words)\n",
        "\n",
        "num_words = len(words)\n",
        "\n",
        "import enchant\n",
        "enchant.list_languages()\n",
        "eng = enchant.Dict(\"en_US\")\n",
        "drops = []\n",
        "for column in words_df.columns:\n",
        "    english = eng.check(column)\n",
        "    if any(map(str.isdigit, column)): \n",
        "        drops.append(column)\n",
        "    if not(english):\n",
        "        drops.append(column)\n",
        "words_df = words_df.drop(columns = drops)\n",
        "reduced_words = len(words_df.columns)\n",
        "print('Reduced words by ', str(round(1-(reduced_words/num_words),2)*100), '%')\n",
        "print('Reduced word count: ', str(reduced_words))\n",
        "words_df.head()"
      ]
    },
    {
      "cell_type": "code",
      "execution_count": 6,
      "metadata": {
        "id": "oZOhPeCRVP4p"
      },
      "outputs": [],
      "source": [
        "from keras.preprocessing.text import Tokenizer\n",
        "X = wines.description.to_numpy()\n",
        "tokenizer = Tokenizer(num_words=20000)\n",
        "tokenizer.fit_on_texts(X)\n",
        "num_words = len(tokenizer.word_index)+1\n",
        "X = tokenizer.texts_to_sequences(X)\n",
        "max_log_length = 1024\n",
        "X_processed = sequence.pad_sequences(X, maxlen=max_log_length)\n",
        "X_processed\n",
        "\n",
        "from sklearn.preprocessing import LabelEncoder\n",
        "encoder = LabelEncoder()\n",
        "encoder.fit(Y)\n",
        "Y_processed = encoder.transform(Y)\n",
        "Y_processed = Y.to_numpy()"
      ]
    },
    {
      "cell_type": "markdown",
      "metadata": {
        "id": "ZLi0A7iYLUb_"
      },
      "source": [
        "## Variety Classifier"
      ]
    },
    {
      "cell_type": "code",
      "execution_count": 7,
      "metadata": {
        "id": "cqANoxkMLUcA"
      },
      "outputs": [],
      "source": [
        "from keras.models import Sequential\n",
        "from keras import layers\n",
        "from sklearn.model_selection import train_test_split\n",
        "import tensorflow as tf\n",
        "from tensorflow import keras\n",
        "from keras.callbacks import TensorBoard\n",
        "from keras.models import Sequential, load_model\n",
        "from keras.layers import LSTM, Dense, Dropout\n",
        "from keras.layers.embeddings import Embedding\n",
        "from keras.preprocessing import sequence\n",
        "from keras.preprocessing.text import Tokenizer\n",
        "from collections import OrderedDict\n",
        "\n",
        "X_train, X_test, y_train, y_test = train_test_split(X_processed, Y_processed, test_size=0.25, random_state=0)\n",
        "\n",
        "Y.value_counts()\n",
        "input_dim = X_train.shape[1]"
      ]
    },
    {
      "cell_type": "markdown",
      "metadata": {
        "id": "UEBCZ9H1qknD"
      },
      "source": [
        "## RNN Build I"
      ]
    },
    {
      "cell_type": "code",
      "execution_count": 8,
      "metadata": {
        "id": "ffuQ3tq9LUcC",
        "colab": {
          "base_uri": "https://localhost:8080/"
        },
        "outputId": "a14fd096-379d-48eb-b2b6-d2dd2bf17ecf"
      },
      "outputs": [
        {
          "output_type": "stream",
          "name": "stdout",
          "text": [
            "Model: \"sequential\"\n",
            "_________________________________________________________________\n",
            " Layer (type)                Output Shape              Param #   \n",
            "=================================================================\n",
            " embedding (Embedding)       (None, 1024, 1024)        16788480  \n",
            "                                                                 \n",
            " lstm (LSTM)                 (None, 32)                135296    \n",
            "                                                                 \n",
            " dense (Dense)               (None, 64)                2112      \n",
            "                                                                 \n",
            " dense_1 (Dense)             (None, 32)                2080      \n",
            "                                                                 \n",
            " dense_2 (Dense)             (None, 1)                 33        \n",
            "                                                                 \n",
            "=================================================================\n",
            "Total params: 16,928,001\n",
            "Trainable params: 16,928,001\n",
            "Non-trainable params: 0\n",
            "_________________________________________________________________\n"
          ]
        }
      ],
      "source": [
        "model = tf.keras.Sequential()\n",
        "model.add(tf.keras.layers.Embedding(input_dim=num_words, output_dim=1024,input_length=max_log_length))\n",
        "model.add(tf.keras.layers.LSTM(units=32, recurrent_dropout=0.5))\n",
        "model.add(tf.keras.layers.Dense(units=64,activation='relu'))\n",
        "model.add(tf.keras.layers.Dense(units=32,activation='relu'))\n",
        "model.add(tf.keras.layers.Dense(units=1,activation='relu'))\n",
        "model.compile(loss='binary_crossentropy',optimizer='adam',metrics='accuracy')\n",
        "model.summary()"
      ]
    },
    {
      "cell_type": "markdown",
      "source": [
        "## RNN Build II"
      ],
      "metadata": {
        "id": "dfIBjtfVtEFz"
      }
    },
    {
      "cell_type": "code",
      "source": [
        "model2 = tf.keras.Sequential()\n",
        "model2.add(tf.keras.layers.Embedding(input_dim=num_words, output_dim=1024,input_length=max_log_length))\n",
        "model2.add(tf.keras.layers.LSTM(units=32, recurrent_dropout=0.5))\n",
        "model2.add(tf.keras.layers.Dense(units=1,activation='relu'))\n",
        "model2.compile(loss='binary_crossentropy',optimizer='adam',metrics='accuracy')\n",
        "model2.summary()"
      ],
      "metadata": {
        "colab": {
          "base_uri": "https://localhost:8080/"
        },
        "id": "zq6dx4hVtDhc",
        "outputId": "278ca792-c36c-4f6f-9a17-43201b5fc543"
      },
      "execution_count": 9,
      "outputs": [
        {
          "output_type": "stream",
          "name": "stdout",
          "text": [
            "Model: \"sequential_1\"\n",
            "_________________________________________________________________\n",
            " Layer (type)                Output Shape              Param #   \n",
            "=================================================================\n",
            " embedding_1 (Embedding)     (None, 1024, 1024)        16788480  \n",
            "                                                                 \n",
            " lstm_1 (LSTM)               (None, 32)                135296    \n",
            "                                                                 \n",
            " dense_3 (Dense)             (None, 1)                 33        \n",
            "                                                                 \n",
            "=================================================================\n",
            "Total params: 16,923,809\n",
            "Trainable params: 16,923,809\n",
            "Non-trainable params: 0\n",
            "_________________________________________________________________\n"
          ]
        }
      ]
    },
    {
      "cell_type": "markdown",
      "metadata": {
        "id": "GT41VP9VqknE"
      },
      "source": [
        "## Fit & Evaluation\n"
      ]
    },
    {
      "cell_type": "code",
      "source": [
        "model.fit(x=X_train, y = y_train, batch_size = 256, epochs = 4)"
      ],
      "metadata": {
        "colab": {
          "base_uri": "https://localhost:8080/"
        },
        "id": "RfSy_iMOuXBE",
        "outputId": "a396ee4f-f392-401a-958e-32a38df0919a"
      },
      "execution_count": 10,
      "outputs": [
        {
          "output_type": "stream",
          "name": "stdout",
          "text": [
            "Epoch 1/3\n",
            "39/39 [==============================] - 294s 7s/step - loss: 0.9896 - accuracy: 0.5354\n",
            "Epoch 2/3\n",
            "39/39 [==============================] - 279s 7s/step - loss: 0.5195 - accuracy: 0.7324\n",
            "Epoch 3/3\n",
            "39/39 [==============================] - 275s 7s/step - loss: 0.3722 - accuracy: 0.8364\n"
          ]
        },
        {
          "output_type": "execute_result",
          "data": {
            "text/plain": [
              "<keras.callbacks.History at 0x7f06d8140b10>"
            ]
          },
          "metadata": {},
          "execution_count": 10
        }
      ]
    },
    {
      "cell_type": "code",
      "execution_count": 11,
      "metadata": {
        "id": "B2PN1akCLUcD",
        "colab": {
          "base_uri": "https://localhost:8080/"
        },
        "outputId": "7a085e11-1fae-4a07-b493-fce0a0940125"
      },
      "outputs": [
        {
          "output_type": "stream",
          "name": "stdout",
          "text": [
            "13/13 [==============================] - 12s 852ms/step - loss: 0.5385 - accuracy: 0.7643\n"
          ]
        },
        {
          "output_type": "execute_result",
          "data": {
            "text/plain": [
              "[0.5385441184043884, 0.7643076777458191]"
            ]
          },
          "metadata": {},
          "execution_count": 11
        }
      ],
      "source": [
        "model.evaluate(X_test, y_test, batch_size=256)"
      ]
    },
    {
      "cell_type": "code",
      "source": [
        "model2.fit(x=X_train, y = y_train, batch_size = 256, epochs = 4)"
      ],
      "metadata": {
        "colab": {
          "base_uri": "https://localhost:8080/"
        },
        "id": "H6hGdFmqtMWL",
        "outputId": "3a5c0b36-e2cb-4180-bec2-861c3b9990b0"
      },
      "execution_count": null,
      "outputs": [
        {
          "output_type": "stream",
          "name": "stdout",
          "text": [
            "Epoch 1/3\n",
            " 7/39 [====>.........................] - ETA: 3:29 - loss: 2.1403 - accuracy: 0.3499"
          ]
        }
      ]
    },
    {
      "cell_type": "code",
      "source": [
        "model2.evaluate(X_test, y_test, batch_size=256)"
      ],
      "metadata": {
        "id": "ZA6anWAStMTy"
      },
      "execution_count": null,
      "outputs": []
    }
  ],
  "metadata": {
    "colab": {
      "collapsed_sections": [],
      "machine_shape": "hm",
      "name": "WineNetRNNs.ipynb",
      "provenance": [],
      "background_execution": "on"
    },
    "kernelspec": {
      "display_name": "Python 3 (ipykernel)",
      "language": "python",
      "name": "python3"
    },
    "language_info": {
      "codemirror_mode": {
        "name": "ipython",
        "version": 3
      },
      "file_extension": ".py",
      "mimetype": "text/x-python",
      "name": "python",
      "nbconvert_exporter": "python",
      "pygments_lexer": "ipython3",
      "version": "3.8.10"
    }
  },
  "nbformat": 4,
  "nbformat_minor": 0
}