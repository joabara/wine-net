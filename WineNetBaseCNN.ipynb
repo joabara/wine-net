{
 "cells": [
  {
   "cell_type": "code",
   "execution_count": 1,
   "metadata": {
    "id": "Pcoh0DRtLUb3"
   },
   "outputs": [],
   "source": [
    "# !pip install pandas\n",
    "# !pip install seaborn\n",
    "# !pip install sklearn\n",
    "# !pip install pyenchant\n",
    "# !apt-get install libenchant1c2a"
   ]
  },
  {
   "cell_type": "code",
   "execution_count": 2,
   "metadata": {
    "colab": {
     "base_uri": "https://localhost:8080/"
    },
    "id": "vaJEsLPQrCvg",
    "outputId": "d29c6300-bb18-45e9-f0d2-17a005f4f8c9"
   },
   "outputs": [],
   "source": [
    "# from google.colab import drive\n",
    "# drive.mount('/content/drive')"
   ]
  },
  {
   "cell_type": "code",
   "execution_count": 3,
   "metadata": {
    "id": "wW_AxRSfLA4s"
   },
   "outputs": [],
   "source": [
    "import pandas as pd\n",
    "import seaborn as sns\n",
    "from sklearn.feature_extraction.text import TfidfVectorizer\n",
    "from keras.preprocessing import sequence\n",
    "import os \n",
    "# os.chdir('/content/drive/MyDrive/NeuralResearch/wine-net/')\n",
    "\n",
    "# os.chdir('/content/drive/MyDrive/MSCA_31009/Final_Project/')\n",
    "\n",
    "def remove_punctuation(s):\n",
    "  punc = '''!()-[]{};:'\"\\,<>./?@#$%^&*_~'''\n",
    "\n",
    "  # Removing punctuations in string\n",
    "  # Using loop + punctuation string\n",
    "  for ele in s:\n",
    "      if ele in punc:\n",
    "          s = s.replace(ele, \"\")\n",
    "  return s\n",
    "\n",
    "def clean_description(review, swap):\n",
    "  terms = review.split()\n",
    "  for x in terms:\n",
    "    try: x = swap[('t_' + str(x))]\n",
    "    except KeyError: x = ''\n",
    "  return ' '.join(terms)\n"
   ]
  },
  {
   "cell_type": "code",
   "execution_count": 4,
   "metadata": {
    "colab": {
     "base_uri": "https://localhost:8080/",
     "height": 206
    },
    "id": "G1yVEY0j8lJP",
    "outputId": "1a3782aa-ea2d-4020-e883-4d76e75bb7f9"
   },
   "outputs": [
    {
     "data": {
      "text/html": [
       "<div>\n",
       "<style scoped>\n",
       "    .dataframe tbody tr th:only-of-type {\n",
       "        vertical-align: middle;\n",
       "    }\n",
       "\n",
       "    .dataframe tbody tr th {\n",
       "        vertical-align: top;\n",
       "    }\n",
       "\n",
       "    .dataframe thead th {\n",
       "        text-align: right;\n",
       "    }\n",
       "</style>\n",
       "<table border=\"1\" class=\"dataframe\">\n",
       "  <thead>\n",
       "    <tr style=\"text-align: right;\">\n",
       "      <th></th>\n",
       "      <th>country</th>\n",
       "      <th>description</th>\n",
       "      <th>points</th>\n",
       "      <th>price</th>\n",
       "      <th>province</th>\n",
       "      <th>region_1</th>\n",
       "      <th>region_2</th>\n",
       "      <th>variety</th>\n",
       "    </tr>\n",
       "  </thead>\n",
       "  <tbody>\n",
       "    <tr>\n",
       "      <th>3</th>\n",
       "      <td>US</td>\n",
       "      <td>pineapple rind lemon pith and orange blossom s...</td>\n",
       "      <td>87</td>\n",
       "      <td>13</td>\n",
       "      <td>Michigan</td>\n",
       "      <td>Lake Michigan Shore</td>\n",
       "      <td></td>\n",
       "      <td>Riesling</td>\n",
       "    </tr>\n",
       "    <tr>\n",
       "      <th>4</th>\n",
       "      <td>US</td>\n",
       "      <td>much like the regular bottling from 2012 this ...</td>\n",
       "      <td>87</td>\n",
       "      <td>65</td>\n",
       "      <td>Oregon</td>\n",
       "      <td>Willamette Valley</td>\n",
       "      <td>Willamette Valley</td>\n",
       "      <td>Pinot Noir</td>\n",
       "    </tr>\n",
       "    <tr>\n",
       "      <th>10</th>\n",
       "      <td>US</td>\n",
       "      <td>soft supple plum envelopes an oaky structure i...</td>\n",
       "      <td>87</td>\n",
       "      <td>19</td>\n",
       "      <td>California</td>\n",
       "      <td>Napa Valley</td>\n",
       "      <td>Napa</td>\n",
       "      <td>Cabernet Sauvignon</td>\n",
       "    </tr>\n",
       "    <tr>\n",
       "      <th>12</th>\n",
       "      <td>US</td>\n",
       "      <td>slightly reduced this wine offers a chalky tan...</td>\n",
       "      <td>87</td>\n",
       "      <td>34</td>\n",
       "      <td>California</td>\n",
       "      <td>Alexander Valley</td>\n",
       "      <td>Sonoma</td>\n",
       "      <td>Cabernet Sauvignon</td>\n",
       "    </tr>\n",
       "    <tr>\n",
       "      <th>14</th>\n",
       "      <td>US</td>\n",
       "      <td>building on 150 years and six generations of w...</td>\n",
       "      <td>87</td>\n",
       "      <td>12</td>\n",
       "      <td>California</td>\n",
       "      <td>Central Coast</td>\n",
       "      <td>Central Coast</td>\n",
       "      <td>Chardonnay</td>\n",
       "    </tr>\n",
       "  </tbody>\n",
       "</table>\n",
       "</div>"
      ],
      "text/plain": [
       "   country                                        description  points  price  \\\n",
       "3       US  pineapple rind lemon pith and orange blossom s...      87     13   \n",
       "4       US  much like the regular bottling from 2012 this ...      87     65   \n",
       "10      US  soft supple plum envelopes an oaky structure i...      87     19   \n",
       "12      US  slightly reduced this wine offers a chalky tan...      87     34   \n",
       "14      US  building on 150 years and six generations of w...      87     12   \n",
       "\n",
       "      province             region_1           region_2             variety  \n",
       "3     Michigan  Lake Michigan Shore                               Riesling  \n",
       "4       Oregon    Willamette Valley  Willamette Valley          Pinot Noir  \n",
       "10  California          Napa Valley               Napa  Cabernet Sauvignon  \n",
       "12  California     Alexander Valley             Sonoma  Cabernet Sauvignon  \n",
       "14  California        Central Coast      Central Coast          Chardonnay  "
      ]
     },
     "execution_count": 4,
     "metadata": {},
     "output_type": "execute_result"
    }
   ],
   "source": [
    "wines = pd.read_csv('winemag-data-130k-v2.csv')\n",
    "wines = wines.drop(columns = ['Unnamed: 0'])\n",
    "\n",
    "wines2 = pd.read_csv('winemag-data_first150k.csv')\n",
    "wines2.head()\n",
    "\n",
    "# Intersect and append two review tables\n",
    "columns = [value for value in wines.columns if value in wines2.columns] # intersection(wines.columns, wines2.columns)\n",
    "wines = wines[columns]\n",
    "wines2 = wines2[columns]\n",
    "wines = pd.concat([wines, wines2]).drop(columns = ['designation', 'winery'])\n",
    "\n",
    "# wines = wines.sample(n=20000)\n",
    "# Actual wines\n",
    "var = list(wines.variety.value_counts()[wines.variety.value_counts() > 10000].index)\n",
    "wines = wines[wines.variety.isin(var)]\n",
    "\n",
    "# Imputation steps\n",
    "median_price = wines.price.median()\n",
    "median_points = wines.points.median()\n",
    "\n",
    "# Impute variables\n",
    "wines.price = wines.price.fillna(median_price)\n",
    "wines.points = wines.points.fillna(median_points)\n",
    "wines = wines.fillna('')\n",
    "wines.price = wines.price.astype(int)\n",
    "wines.description = wines.description.apply(lambda x: remove_punctuation(x.lower()))\n",
    "\n",
    "Y = wines.variety\n",
    "output_shape = Y.nunique()\n",
    "Y0_price = wines.price\n",
    "Y1_points = wines.points.apply(lambda x: 1 if x > 87 else 0)\n",
    "\n",
    "\n",
    "wines.head()"
   ]
  },
  {
   "cell_type": "code",
   "execution_count": 5,
   "metadata": {},
   "outputs": [
    {
     "name": "stderr",
     "output_type": "stream",
     "text": [
      "/usr/local/lib/python3.8/dist-packages/seaborn/distributions.py:2619: FutureWarning: `distplot` is a deprecated function and will be removed in a future version. Please adapt your code to use either `displot` (a figure-level function with similar flexibility) or `histplot` (an axes-level function for histograms).\n",
      "  warnings.warn(msg, FutureWarning)\n"
     ]
    },
    {
     "data": {
      "image/png": "[encoded data removed]",
      "text/plain": [
       "<Figure size 432x288 with 1 Axes>"
      ]
     },
     "metadata": {
      "needs_background": "light"
     },
     "output_type": "display_data"
    }
   ],
   "source": [
    "sns.distplot(wines.points)\n",
    "wines = wines.drop(columns=['variety', 'price', 'points', 'region_1', 'region_2'])"
   ]
  },
  {
   "cell_type": "code",
   "execution_count": 6,
   "metadata": {
    "colab": {
     "base_uri": "https://localhost:8080/",
     "height": 300
    },
    "id": "Qt04p9Z4L3uP",
    "outputId": "8789e986-a35d-44fd-df89-e7f415a19b5f"
   },
   "outputs": [
    {
     "data": {
      "text/plain": [
       "Pinot Noir                  27563\n",
       "Chardonnay                  26235\n",
       "Cabernet Sauvignon          22272\n",
       "Red Blend                   19008\n",
       "Bordeaux-style Red Blend    14262\n",
       "Sauvignon Blanc             11287\n",
       "Riesling                    10713\n",
       "Name: variety, dtype: int64"
      ]
     },
     "execution_count": 6,
     "metadata": {},
     "output_type": "execute_result"
    }
   ],
   "source": [
    "Y.value_counts()"
   ]
  },
  {
   "cell_type": "code",
   "execution_count": 7,
   "metadata": {
    "colab": {
     "base_uri": "https://localhost:8080/",
     "height": 206
    },
    "id": "-Y4gvy9NQjib",
    "outputId": "9e6a95c9-66f0-4cb5-8dac-57af05c3c77d"
   },
   "outputs": [
    {
     "data": {
      "text/html": [
       "<div>\n",
       "<style scoped>\n",
       "    .dataframe tbody tr th:only-of-type {\n",
       "        vertical-align: middle;\n",
       "    }\n",
       "\n",
       "    .dataframe tbody tr th {\n",
       "        vertical-align: top;\n",
       "    }\n",
       "\n",
       "    .dataframe thead th {\n",
       "        text-align: right;\n",
       "    }\n",
       "</style>\n",
       "<table border=\"1\" class=\"dataframe\">\n",
       "  <thead>\n",
       "    <tr style=\"text-align: right;\">\n",
       "      <th></th>\n",
       "      <th>country</th>\n",
       "      <th>description</th>\n",
       "      <th>province</th>\n",
       "    </tr>\n",
       "  </thead>\n",
       "  <tbody>\n",
       "    <tr>\n",
       "      <th>3</th>\n",
       "      <td>US</td>\n",
       "      <td>pineapple rind lemon pith and orange blossom s...</td>\n",
       "      <td>Michigan</td>\n",
       "    </tr>\n",
       "    <tr>\n",
       "      <th>4</th>\n",
       "      <td>US</td>\n",
       "      <td>much like the regular bottling from 2012 this ...</td>\n",
       "      <td>Oregon</td>\n",
       "    </tr>\n",
       "    <tr>\n",
       "      <th>10</th>\n",
       "      <td>US</td>\n",
       "      <td>soft supple plum envelopes an oaky structure i...</td>\n",
       "      <td>California</td>\n",
       "    </tr>\n",
       "    <tr>\n",
       "      <th>12</th>\n",
       "      <td>US</td>\n",
       "      <td>slightly reduced this wine offers a chalky tan...</td>\n",
       "      <td>California</td>\n",
       "    </tr>\n",
       "    <tr>\n",
       "      <th>14</th>\n",
       "      <td>US</td>\n",
       "      <td>building on 150 years and six generations of w...</td>\n",
       "      <td>California</td>\n",
       "    </tr>\n",
       "  </tbody>\n",
       "</table>\n",
       "</div>"
      ],
      "text/plain": [
       "   country                                        description    province\n",
       "3       US  pineapple rind lemon pith and orange blossom s...    Michigan\n",
       "4       US  much like the regular bottling from 2012 this ...      Oregon\n",
       "10      US  soft supple plum envelopes an oaky structure i...  California\n",
       "12      US  slightly reduced this wine offers a chalky tan...  California\n",
       "14      US  building on 150 years and six generations of w...  California"
      ]
     },
     "execution_count": 7,
     "metadata": {},
     "output_type": "execute_result"
    }
   ],
   "source": [
    "# vectorizing the rest of the data in the table.\n",
    "wines.head()"
   ]
  },
  {
   "cell_type": "code",
   "execution_count": 8,
   "metadata": {
    "colab": {
     "base_uri": "https://localhost:8080/"
    },
    "id": "oZOhPeCRVP4p",
    "outputId": "ebd2c60b-53ac-4147-b86e-c4de650c6dd5"
   },
   "outputs": [
    {
     "data": {
      "text/plain": [
       "array([[   0,    0,    0, ...,  517, 2384,   18],\n",
       "       [   0,    0,    0, ...,  862, 3749, 2886],\n",
       "       [   0,    0,    0, ...,    1, 1194, 5234],\n",
       "       ...,\n",
       "       [   0,    0,    0, ...,   49,  421,    8],\n",
       "       [   0,    0,    0, ...,   29, 2199,   84],\n",
       "       [   0,    0,    0, ...,  629,    2,  221]], dtype=int32)"
      ]
     },
     "execution_count": 8,
     "metadata": {},
     "output_type": "execute_result"
    }
   ],
   "source": [
    "from keras.preprocessing.text import Tokenizer\n",
    "X = wines.description.to_numpy()\n",
    "tokenizer = Tokenizer(num_words=50000)\n",
    "tokenizer.fit_on_texts(X)\n",
    "num_words = len(tokenizer.word_index)+1\n",
    "X = tokenizer.texts_to_sequences(X)\n",
    "max_log_length = 1024\n",
    "X_processed = sequence.pad_sequences(X, maxlen=max_log_length)\n",
    "X_processed"
   ]
  },
  {
   "cell_type": "code",
   "execution_count": 9,
   "metadata": {
    "colab": {
     "base_uri": "https://localhost:8080/"
    },
    "id": "arBV53PhWyvM",
    "outputId": "63e6dba3-da4d-48e9-9da4-d9a84dd64ba1"
   },
   "outputs": [
    {
     "name": "stdout",
     "output_type": "stream",
     "text": [
      "2\n"
     ]
    },
    {
     "data": {
      "text/plain": [
       "array(['Riesling', 'Pinot Noir', 'Cabernet Sauvignon', ..., 'Pinot Noir',\n",
       "       'Pinot Noir', 'Pinot Noir'], dtype=object)"
      ]
     },
     "execution_count": 9,
     "metadata": {},
     "output_type": "execute_result"
    }
   ],
   "source": [
    "from sklearn.preprocessing import LabelEncoder\n",
    "# encode class values as integers\n",
    "print(Y1_points.nunique())\n",
    "encoder = LabelEncoder()\n",
    "encoder.fit(Y)\n",
    "Y_processed = encoder.transform(Y)\n",
    "Y1 = Y1_points.to_numpy()\n",
    "Y1\n",
    "Y = Y.to_numpy()\n",
    "Y"
   ]
  },
  {
   "cell_type": "code",
   "execution_count": 10,
   "metadata": {
    "id": "zAGNUZb1LUb9"
   },
   "outputs": [],
   "source": [
    "# words_df = words_df.reset_index()\n",
    "# wines = wines.reset_index()\n",
    "# wines = pd.concat([wines, words_df], axis=1)\n",
    "# wines.shape\n",
    "# wines = wines.drop(columns = ['index'])"
   ]
  },
  {
   "cell_type": "markdown",
   "metadata": {
    "id": "ZLi0A7iYLUb_"
   },
   "source": [
    "## Variety Classifier"
   ]
  },
  {
   "cell_type": "code",
   "execution_count": 11,
   "metadata": {
    "id": "cqANoxkMLUcA"
   },
   "outputs": [],
   "source": [
    "from keras.models import Sequential\n",
    "from keras import layers\n",
    "from sklearn.model_selection import train_test_split\n",
    "import tensorflow as tf\n",
    "from tensorflow import keras\n",
    "\n",
    "from keras.callbacks import TensorBoard\n",
    "from keras.models import Sequential, load_model\n",
    "from keras.layers import LSTM, Dense, Dropout\n",
    "from keras.layers.embeddings import Embedding\n",
    "from keras.preprocessing import sequence\n",
    "from keras.preprocessing.text import Tokenizer\n",
    "from collections import OrderedDict\n",
    "\n",
    "X_train, X_test, y_train, y_test = train_test_split(X_processed, Y1_points, test_size=0.25, random_state=0)\n",
    "\n",
    "input_dim = X_train.shape[1]"
   ]
  },
  {
   "cell_type": "markdown",
   "metadata": {
    "id": "UEBCZ9H1qknD"
   },
   "source": [
    "## RNN Build"
   ]
  },
  {
   "cell_type": "code",
   "execution_count": 12,
   "metadata": {
    "id": "ffuQ3tq9LUcC"
   },
   "outputs": [],
   "source": [
    "# from tensorflow.keras.layers import Dense, LSTM, Embedding,Dropout,SpatialDropout1D,Conv1D,MaxPooling1D,GRU,BatchNormalization\n",
    "# from tensorflow.keras.layers import Input,Bidirectional,GlobalAveragePooling1D,GlobalMaxPooling1D,concatenate,LeakyReLU\n",
    "# from tensorflow.keras import regularizers\n",
    "# from tensorflow.keras import backend as K\n",
    "\n",
    "# model = Sequential()\n",
    "# model.add(Embedding(input_dim=X_train.shape[0], output_dim=X_train.shape[1], weights=[X_train], input_length=max_log_length, trainable=False))\n",
    "# model.add(SpatialDropout1D(0.5))\n",
    "# model.add(Conv1D(filters=32, kernel_size=10 , kernel_regularizer=regularizers.l2(0.00001), padding='same'))\n",
    "# model.add(LeakyReLU(alpha=0.2))\n",
    "# model.add(MaxPooling1D(pool_size=2))\n",
    "# model.add(Bidirectional(LSTM(units=64,dropout=0.5, recurrent_dropout=0.5,return_sequences=True)))\n",
    "# model.add(SpatialDropout1D(0.5))\n",
    "# model.add(Conv1D(filters=32, kernel_size=10 ,kernel_regularizer=regularizers.l2(0.00001), padding='same'))\n",
    "# model.add(LeakyReLU(alpha=0.2))\n",
    "# model.add(MaxPooling1D(pool_size=2))\n",
    "# model.add(Bidirectional(LSTM(lstm_units,dropout=0.5, recurrent_dropout=0.5,return_sequences=True)))\n",
    "# model.add(SpatialDropout1D(0.5))\n",
    "# model.add(Conv1D(filters=32, kernel_size=10 ,kernel_regularizer=regularizers.l2(0.00001), padding='same'))\n",
    "# model.add(LeakyReLU(alpha=0.2))\n",
    "# model.add(MaxPooling1D(pool_size=2))\n",
    "# model.add(Bidirectional(LSTM(lstm_units,dropout=0.5, recurrent_dropout=0.5)))\n",
    "# model.add(Dense(4,activation='softmax'))"
   ]
  },
  {
   "cell_type": "markdown",
   "metadata": {
    "id": "GT41VP9VqknE"
   },
   "source": [
    "## CNN Build"
   ]
  },
  {
   "cell_type": "code",
   "execution_count": 13,
   "metadata": {
    "colab": {
     "base_uri": "https://localhost:8080/"
    },
    "id": "k_3H-ouBqknF",
    "outputId": "cec211b4-afd8-4e0d-b19f-9d9f389437d2"
   },
   "outputs": [],
   "source": [
    "# from tensorflow.keras.layers import Dense, LSTM, Embedding,Dropout,SpatialDropout1D,Conv1D,MaxPooling1D,GRU,BatchNormalization\n",
    "# from tensorflow.keras.layers import Input,Bidirectional,GlobalAveragePooling1D,GlobalMaxPooling1D,concatenate,LeakyReLU\n",
    "# from tensorflow.keras import regularizers\n",
    "# from tensorflow.keras import backend as K\n",
    "\n",
    "# X_train, X_test, y_train, y_test = train_test_split(X_processed, Y1_points, test_size=0.25, random_state=0)\n",
    "\n",
    "# input_dim = X_train.shape[1]\n",
    "\n",
    "# model = Sequential()\n",
    "# model.add(Embedding(input_dim=X_train.shape[0], output_dim=X_train.shape[1], weights=[X_train], input_length=max_log_length, trainable=False))\n",
    "\n",
    "\n",
    "# model.add(SpatialDropout1D(0.5))\n",
    "# model.add(Conv1D(filters=128, kernel_size=3 , kernel_regularizer=regularizers.l2(0.00001), padding='same'))\n",
    "# model.add(LeakyReLU(alpha=0.2))\n",
    "# model.add(MaxPooling1D(pool_size=2))\n",
    "\n",
    "# model.add(SpatialDropout1D(0.5))\n",
    "# model.add(Conv1D(filters=128, kernel_size=3 ,kernel_regularizer=regularizers.l2(0.00001), padding='same'))\n",
    "# model.add(LeakyReLU(alpha=0.2))\n",
    "# model.add(MaxPooling1D(pool_size=2))\n",
    "\n",
    "# model.add(SpatialDropout1D(0.5))\n",
    "# model.add(Conv1D(filters=128, kernel_size=3 ,kernel_regularizer=regularizers.l2(0.00001), padding='same'))\n",
    "# model.add(LeakyReLU(alpha=0.2))\n",
    "# model.add(MaxPooling1D(pool_size=2))\n",
    "\n",
    "# model.add(SpatialDropout1D(0.5))\n",
    "# model.add(Conv1D(filters=128, kernel_size=3 ,kernel_regularizer=regularizers.l2(0.00001), padding='same'))\n",
    "# model.add(LeakyReLU(alpha=0.2))\n",
    "# model.add(MaxPooling1D(pool_size=2))\n",
    "\n",
    "# model.add(SpatialDropout1D(0.5))\n",
    "# model.add(Conv1D(filters=128, kernel_size=3 ,kernel_regularizer=regularizers.l2(0.00001), padding='same'))\n",
    "# model.add(LeakyReLU(alpha=0.2))\n",
    "# model.add(MaxPooling1D(pool_size=2))\n",
    "\n",
    "# model.add(SpatialDropout1D(0.5))\n",
    "# model.add(Conv1D(filters=128, kernel_size=3 ,kernel_regularizer=regularizers.l2(0.00001), padding='same'))\n",
    "# model.add(LeakyReLU(alpha=0.2))\n",
    "# model.add(MaxPooling1D(pool_size=2))\n",
    "\n",
    "# model.add(tf.keras.layers.Flatten())\n",
    "# model.add(Dense(1, activation='softmax'))\n",
    "\n",
    "# model.compile(loss='binary_crossentropy', optimizer=keras.optimizers.Adam(), metrics=['accuracy'])\n",
    "# model.summary()\n"
   ]
  },
  {
   "cell_type": "markdown",
   "metadata": {},
   "source": [
    "## CNN Build II"
   ]
  },
  {
   "cell_type": "code",
   "execution_count": 18,
   "metadata": {},
   "outputs": [
    {
     "name": "stdout",
     "output_type": "stream",
     "text": [
      "Model: \"sequential_2\"\n",
      "_________________________________________________________________\n",
      " Layer (type)                Output Shape              Param #   \n",
      "=================================================================\n",
      " embedding_2 (Embedding)     (None, 1024, 1024)        100869120 \n",
      "                                                                 \n",
      " spatial_dropout1d_12 (Spati  (None, 1024, 1024)       0         \n",
      " alDropout1D)                                                    \n",
      "                                                                 \n",
      " conv1d_12 (Conv1D)          (None, 1024, 32)          98336     \n",
      "                                                                 \n",
      " leaky_re_lu_12 (LeakyReLU)  (None, 1024, 32)          0         \n",
      "                                                                 \n",
      " max_pooling1d_12 (MaxPoolin  (None, 512, 32)          0         \n",
      " g1D)                                                            \n",
      "                                                                 \n",
      " spatial_dropout1d_13 (Spati  (None, 512, 32)          0         \n",
      " alDropout1D)                                                    \n",
      "                                                                 \n",
      " conv1d_13 (Conv1D)          (None, 512, 32)           3104      \n",
      "                                                                 \n",
      " leaky_re_lu_13 (LeakyReLU)  (None, 512, 32)           0         \n",
      "                                                                 \n",
      " max_pooling1d_13 (MaxPoolin  (None, 256, 32)          0         \n",
      " g1D)                                                            \n",
      "                                                                 \n",
      " spatial_dropout1d_14 (Spati  (None, 256, 32)          0         \n",
      " alDropout1D)                                                    \n",
      "                                                                 \n",
      " conv1d_14 (Conv1D)          (None, 256, 32)           3104      \n",
      "                                                                 \n",
      " leaky_re_lu_14 (LeakyReLU)  (None, 256, 32)           0         \n",
      "                                                                 \n",
      " max_pooling1d_14 (MaxPoolin  (None, 128, 32)          0         \n",
      " g1D)                                                            \n",
      "                                                                 \n",
      " spatial_dropout1d_15 (Spati  (None, 128, 32)          0         \n",
      " alDropout1D)                                                    \n",
      "                                                                 \n",
      " conv1d_15 (Conv1D)          (None, 128, 32)           3104      \n",
      "                                                                 \n",
      " leaky_re_lu_15 (LeakyReLU)  (None, 128, 32)           0         \n",
      "                                                                 \n",
      " max_pooling1d_15 (MaxPoolin  (None, 64, 32)           0         \n",
      " g1D)                                                            \n",
      "                                                                 \n",
      " spatial_dropout1d_16 (Spati  (None, 64, 32)           0         \n",
      " alDropout1D)                                                    \n",
      "                                                                 \n",
      " conv1d_16 (Conv1D)          (None, 64, 32)            3104      \n",
      "                                                                 \n",
      " leaky_re_lu_16 (LeakyReLU)  (None, 64, 32)            0         \n",
      "                                                                 \n",
      " max_pooling1d_16 (MaxPoolin  (None, 32, 32)           0         \n",
      " g1D)                                                            \n",
      "                                                                 \n",
      " spatial_dropout1d_17 (Spati  (None, 32, 32)           0         \n",
      " alDropout1D)                                                    \n",
      "                                                                 \n",
      " conv1d_17 (Conv1D)          (None, 32, 32)            3104      \n",
      "                                                                 \n",
      " leaky_re_lu_17 (LeakyReLU)  (None, 32, 32)            0         \n",
      "                                                                 \n",
      " max_pooling1d_17 (MaxPoolin  (None, 16, 32)           0         \n",
      " g1D)                                                            \n",
      "                                                                 \n",
      " flatten_2 (Flatten)         (None, 512)               0         \n",
      "                                                                 \n",
      " dense_4 (Dense)             (None, 7)                 3591      \n",
      "                                                                 \n",
      " dense_5 (Dense)             (None, 1)                 8         \n",
      "                                                                 \n",
      "=================================================================\n",
      "Total params: 100,986,575\n",
      "Trainable params: 117,455\n",
      "Non-trainable params: 100,869,120\n",
      "_________________________________________________________________\n"
     ]
    }
   ],
   "source": [
    "from tensorflow.keras.layers import Dense, LSTM, Embedding,Dropout,SpatialDropout1D,Conv1D,MaxPooling1D,GRU,BatchNormalization\n",
    "from tensorflow.keras.layers import Input,Bidirectional,GlobalAveragePooling1D,GlobalMaxPooling1D,concatenate,LeakyReLU\n",
    "from tensorflow.keras import regularizers\n",
    "from tensorflow.keras import backend as K\n",
    "\n",
    "X_train, X_test, y_train, y_test = train_test_split(X_processed, Y_processed, test_size=0.25, random_state=0)\n",
    "\n",
    "input_dim = X_train.shape[1]\n",
    "\n",
    "model = Sequential()\n",
    "model.add(Embedding(input_dim=X_train.shape[0], output_dim=X_train.shape[1], weights=[X_train], input_length=max_log_length, trainable=False))\n",
    "\n",
    "model.add(SpatialDropout1D(0.5))\n",
    "model.add(Conv1D(filters=32, kernel_size=3 , kernel_regularizer=regularizers.l2(0.00001), padding='same'))\n",
    "model.add(LeakyReLU(alpha=0.2))\n",
    "model.add(MaxPooling1D(pool_size=2))\n",
    "\n",
    "model.add(SpatialDropout1D(0.5))\n",
    "model.add(Conv1D(filters=32, kernel_size=3 ,kernel_regularizer=regularizers.l2(0.00001), padding='same'))\n",
    "model.add(LeakyReLU(alpha=0.2))\n",
    "model.add(MaxPooling1D(pool_size=2))\n",
    "\n",
    "model.add(SpatialDropout1D(0.5))\n",
    "model.add(Conv1D(filters=32, kernel_size=3 ,kernel_regularizer=regularizers.l2(0.00001), padding='same'))\n",
    "model.add(LeakyReLU(alpha=0.2))\n",
    "model.add(MaxPooling1D(pool_size=2))\n",
    "\n",
    "model.add(SpatialDropout1D(0.5))\n",
    "model.add(Conv1D(filters=32, kernel_size=3 ,kernel_regularizer=regularizers.l2(0.00001), padding='same'))\n",
    "model.add(LeakyReLU(alpha=0.2))\n",
    "model.add(MaxPooling1D(pool_size=2))\n",
    "\n",
    "model.add(SpatialDropout1D(0.5))\n",
    "model.add(Conv1D(filters=32, kernel_size=3 ,kernel_regularizer=regularizers.l2(0.00001), padding='same'))\n",
    "model.add(LeakyReLU(alpha=0.2))\n",
    "model.add(MaxPooling1D(pool_size=2))\n",
    "\n",
    "model.add(SpatialDropout1D(0.5))\n",
    "model.add(Conv1D(filters=32, kernel_size=3 ,kernel_regularizer=regularizers.l2(0.00001), padding='same'))\n",
    "model.add(LeakyReLU(alpha=0.2))\n",
    "model.add(MaxPooling1D(pool_size=2))\n",
    "\n",
    "model.add(tf.keras.layers.Flatten())\n",
    "model.add(Dense(output_shape, activation='sigmoid'))\n",
    "model.add(Dense(1, activation='sigmoid'))\n",
    "\n",
    "model.compile(loss='categorical_crossentropy', optimizer=keras.optimizers.Adam(), metrics=['accuracy'])\n",
    "model.summary()\n",
    "\n"
   ]
  },
  {
   "cell_type": "code",
   "execution_count": null,
   "metadata": {
    "colab": {
     "base_uri": "https://localhost:8080/",
     "height": 328
    },
    "id": "RfSy_iMOuXBE",
    "outputId": "2e91246f-9a12-47e7-d791-82469695430d"
   },
   "outputs": [
    {
     "name": "stdout",
     "output_type": "stream",
     "text": [
      "Epoch 1/1000\n",
      "6157/6157 [==============================] - 37s 6ms/step - loss: 0.0018 - accuracy: 0.1694\n",
      "Epoch 2/1000\n",
      "6157/6157 [==============================] - 36s 6ms/step - loss: 0.0018 - accuracy: 0.1696\n",
      "Epoch 3/1000\n",
      "6157/6157 [==============================] - 36s 6ms/step - loss: 0.0014 - accuracy: 0.1696\n",
      "Epoch 4/1000\n",
      "2310/6157 [==========>...................] - ETA: 22s - loss: 0.0011 - accuracy: 0.1697"
     ]
    }
   ],
   "source": [
    "model.fit(x=X_train, y = y_train, batch_size = 512, epochs = 1000)"
   ]
  },
  {
   "cell_type": "code",
   "execution_count": null,
   "metadata": {
    "colab": {
     "base_uri": "https://localhost:8080/"
    },
    "id": "B2PN1akCLUcD",
    "outputId": "269a01bd-8cf1-4688-9c50-af4002732b2a"
   },
   "outputs": [],
   "source": [
    "model.evaluate(X_test, y_test, batch_size=128)"
   ]
  },
  {
   "cell_type": "code",
   "execution_count": null,
   "metadata": {
    "id": "14QW2tMtqknG"
   },
   "outputs": [],
   "source": []
  },
  {
   "cell_type": "code",
   "execution_count": null,
   "metadata": {
    "id": "NthpnfrYLUcD"
   },
   "outputs": [],
   "source": []
  },
  {
   "cell_type": "code",
   "execution_count": null,
   "metadata": {
    "id": "CaWNkR4pTRFc"
   },
   "outputs": [],
   "source": []
  }
 ],
 "metadata": {
  "accelerator": "GPU",
  "colab": {
   "collapsed_sections": [],
   "machine_shape": "hm",
   "name": "WineNetBase.ipynb",
   "provenance": []
  },
  "kernelspec": {
   "display_name": "Python 3 (ipykernel)",
   "language": "python",
   "name": "python3"
  },
  "language_info": {
   "codemirror_mode": {
    "name": "ipython",
    "version": 3
   },
   "file_extension": ".py",
   "mimetype": "text/x-python",
   "name": "python",
   "nbconvert_exporter": "python",
   "pygments_lexer": "ipython3",
   "version": "3.8.10"
  }
 },
 "nbformat": 4,
 "nbformat_minor": 1
}
